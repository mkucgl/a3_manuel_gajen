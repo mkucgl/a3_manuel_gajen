{
 "cells": [
  {
   "cell_type": "markdown",
   "metadata": {},
   "source": [
    "## Useful scikit-learn tooboxes:\n",
    "\n",
    "from sklearn.model_selection:\n",
    "\n",
    "* train_test_split, KFold, StratifiedKFold ---> data split\n",
    "\n",
    "* cross_val_score ---> evaluation of a given score using CV (pay attention to scoring and cv parameters)\n",
    "\n",
    "* GridSearchCV ---> hyperparameters tuning (this is not required for this task but feel free to explore)\n",
    "\n",
    "\n",
    "from sklearn.feature_extraction:\n",
    "\n",
    "* CountVectorizer --> extract bag-of-word features from text (Text is described by word occurrences while completely ignoring the relative position information of the words in the text). Converts a sequence(i.e list, numpy..) of strings to a SciPy representation of the counts used by scikit-learn estimators. Some parameters, e.g. tokenization ,stop words can be overwritten.\n",
    "\n",
    "* DictVectorizer --> convert feature arrays represented as lists of standard Python dict objects to the NumPy/SciPy representation used by scikit-learn estimators\n",
    "\n",
    "\n",
    "from sklearn.pipeline:\n",
    "\n",
    "* FeatureUnion --> combine different features together. Here there is an interesting example how to present data before feeding it into a pipeline: http://scikit-learn.org/stable/auto_examples/hetero_feature_union.html#\n",
    "\n",
    "\n",
    "from sklearn.metrics: \n",
    "\n",
    "* classification_report, confusion_matrix --> could be used for performance analysis on development set\n",
    "\n",
    "\n",
    "## Inspiration links:\n",
    "\n",
    "inspiration for mentions detecion:\n",
    "\n",
    "http://stackoverflow.com/questions/425604/best-way-to-determine-if-a-sequence-is-in-another-sequence-in-python --> sequence in sequence\n",
    "\n",
    "difflib.SequenceMatcher --> sequence matching\n",
    "\n",
    "\n",
    "inspiration for the use of syntactic information:\n",
    "\n",
    "https://nicschrading.com/project/Intro-to-NLP-with-spaCy/\n",
    "\n",
    "http://stackoverflow.com/questions/33289820/noun-phrases-with-spacy\n",
    "\n",
    "https://demos.explosion.ai/displacy/\n",
    "\n",
    "https://demos.explosion.ai/displacy-ent/\n",
    "\n",
    "http://stackoverflow.com/questions/32835291/how-to-find-the-shortest-dependency-path-between-two-words-in-python\n",
    "\n",
    "\n",
    "Notebooks and code for the book \"Introduction to Machine Learning with Python\":\n",
    "\n",
    "https://github.com/amueller/introduction_to_ml_with_python --> check out visualization of feature coefficients, Ch 7 \n",
    "\n"
   ]
  },
  {
   "cell_type": "code",
   "execution_count": null,
   "metadata": {
    "collapsed": true
   },
   "outputs": [],
   "source": []
  }
 ],
 "metadata": {
  "anaconda-cloud": {},
  "kernelspec": {
   "display_name": "Python (py27)",
   "language": "python",
   "name": "py27"
  },
  "language_info": {
   "codemirror_mode": {
    "name": "ipython",
    "version": 2
   },
   "file_extension": ".py",
   "mimetype": "text/x-python",
   "name": "python",
   "nbconvert_exporter": "python",
   "pygments_lexer": "ipython2",
   "version": "2.7.10"
  }
 },
 "nbformat": 4,
 "nbformat_minor": 0
}
